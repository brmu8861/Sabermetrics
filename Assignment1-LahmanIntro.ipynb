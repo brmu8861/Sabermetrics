{
 "cells": [
  {
   "cell_type": "markdown",
   "metadata": {},
   "source": [
    "# Assignment 1 Questions #\n",
    "#### CSCI 4831 - Sabermetrics ####\n",
    "#### Instructor: Hoenigman ####\n",
    "#### Due: Wednesday, Jan 23 by 3pm ####\n",
    "\n",
    "**Using the Lahman data, answer the following questions in a Jupyter Notebook. Submit your notebook to the Assignment 1 link on Canvas.**\n",
    "\n",
    "1. (10 pts) Which player had the most at-bats in either league in 2015?"
   ]
  },
  {
   "cell_type": "code",
   "execution_count": null,
   "metadata": {},
   "outputs": [],
   "source": []
  },
  {
   "cell_type": "markdown",
   "metadata": {},
   "source": [
    "2. (10 pts) Which team grounded into the most double plays in 2016?"
   ]
  },
  {
   "cell_type": "code",
   "execution_count": null,
   "metadata": {},
   "outputs": [],
   "source": []
  },
  {
   "cell_type": "markdown",
   "metadata": {},
   "source": [
    "3. (10 pts) Which team scored the most total runs between 2010-2016?"
   ]
  },
  {
   "cell_type": "code",
   "execution_count": null,
   "metadata": {},
   "outputs": [],
   "source": []
  },
  {
   "cell_type": "markdown",
   "metadata": {},
   "source": [
    "4. (10 pts) Which pitcher had the lowest ERA in 2012 and pitched at least 50 innings?"
   ]
  },
  {
   "cell_type": "code",
   "execution_count": null,
   "metadata": {},
   "outputs": [],
   "source": []
  },
  {
   "cell_type": "markdown",
   "metadata": {},
   "source": [
    "The Mendoza Line is a baseball expression named after shortstop Mario Mendoza, whose batting average through most of his career has been adopted to define the threshold needed for a player to remain in Major League Baseball. When a position player's batting average falls below .200, the player is said to be 'below the Mendoza Line'. This is often thought of as the offensive threshold below which a player's presence in Major League Baseball cannot be justified, regardless of his defensive abilities. The term has been adopted in other contexts as well when one is so incompetent in one key skill that other skills cannot compensate for that deficiency, e.g. Professor X's FCQ scores are below the Mendoza Line. \n",
    "\n",
    "5. (20 pts) Create a dataframe of all position players - not pitchers - with a batting average (BA) below the Mendoza Line since 2010. Your dataframe needs to include the player's playerID, first name, last name, team name, position, BA, and AB. If a player had multiple teams in 2010, you can include both teams as a separate line in the dataframe."
   ]
  },
  {
   "cell_type": "code",
   "execution_count": null,
   "metadata": {},
   "outputs": [],
   "source": []
  },
  {
   "cell_type": "markdown",
   "metadata": {},
   "source": [
    "6. (40 pts) Your friend, who thinks he knows so much about baseball, is talking on at length about how the pitcher who starts the All-star game is always the best pitcher in the league. Make the case that your friend is wrong. Is it true that the All-star starters are the best pitchers? What are the criteria that determine \"best\"? Could different criteria produce a different answer? \n",
    "\n",
    "To answer this question, you need to provide a written explanation that is about one page in length that describes how you define who is the best pitcher, and how the best pitcher compares to the All-star pitcher and other pitchers in the league. You need to use more than one metric for evaluating pitchers. Your answer also needs to include the data, and the code you write to generate that data, to support your explanation."
   ]
  },
  {
   "cell_type": "code",
   "execution_count": null,
   "metadata": {},
   "outputs": [],
   "source": []
  }
 ],
 "metadata": {
  "kernelspec": {
   "display_name": "Python 3",
   "language": "python",
   "name": "python3"
  },
  "language_info": {
   "codemirror_mode": {
    "name": "ipython",
    "version": 3
   },
   "file_extension": ".py",
   "mimetype": "text/x-python",
   "name": "python",
   "nbconvert_exporter": "python",
   "pygments_lexer": "ipython3",
   "version": "3.6.7"
  }
 },
 "nbformat": 4,
 "nbformat_minor": 2
}
